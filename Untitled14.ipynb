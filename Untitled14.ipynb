{
 "cells": [
  {
   "cell_type": "code",
   "execution_count": 1,
   "metadata": {},
   "outputs": [
    {
     "name": "stdout",
     "output_type": "stream",
     "text": [
      "23\n",
      "33\n",
      "44\n",
      "5\n",
      "55\n",
      "66\n",
      "32\n",
      "33\n",
      "46\n",
      "44\n",
      "[44, 66, 32, 46, 44]\n"
     ]
    }
   ],
   "source": [
    "#QUESTION 1\n",
    "l=[]\n",
    "for i in range(0,10):\n",
    "    a=int(input())\n",
    "    if a%2==0:\n",
    "        l.append(a)\n",
    "print(l)        "
   ]
  },
  {
   "cell_type": "code",
   "execution_count": 15,
   "metadata": {},
   "outputs": [
    {
     "name": "stdout",
     "output_type": "stream",
     "text": [
      "[4, 5, 6, 7, 1]\n",
      "[1, 4, 5, 6, 7]\n",
      "[1, 4, 3, 5, 6, 7]\n",
      "[1, 4, 5, 6, 7]\n",
      "[1, 4, 5, 6]\n",
      "[6, 5, 4, 1]\n"
     ]
    }
   ],
   "source": [
    "#QUESTION 2\n",
    "#List Comprehension\n",
    "l=[4,5,6,7]\n",
    "l.append(1)\n",
    "print(l)\n",
    "l.sort()\n",
    "print(l)\n",
    "l.insert(2,3)\n",
    "print(l)\n",
    "l.remove(3)\n",
    "print(l)\n",
    "l.pop(4)\n",
    "print(l)\n",
    "l.reverse()\n",
    "print(l)"
   ]
  },
  {
   "cell_type": "code",
   "execution_count": 16,
   "metadata": {},
   "outputs": [
    {
     "name": "stdout",
     "output_type": "stream",
     "text": [
      "3\n",
      "{1: 1, 2: 4, 3: 9}\n"
     ]
    }
   ],
   "source": [
    "#QUESTION 3\n",
    "dict1={}\n",
    "in1=int(input())\n",
    "for i in range(1,in1+1):\n",
    "    dict1[i]=i*i\n",
    "print(dict1)"
   ]
  },
  {
   "cell_type": "code",
   "execution_count": 20,
   "metadata": {},
   "outputs": [
    {
     "name": "stdout",
     "output_type": "stream",
     "text": [
      "4\n",
      "UP 5\n",
      "DOWN 3\n",
      "LEFT 3\n",
      "RIGHT 2\n",
      "\n",
      "0\n"
     ]
    }
   ],
   "source": [
    "#QUESTION 4\n",
    "import math\n",
    "pos=[0,0]\n",
    "while True:\n",
    "    s=input()\n",
    "    if not s:\n",
    "        break\n",
    "        movement=s.split(\" \")\n",
    "        direction=movement[0]\n",
    "        steps=int(movement[1])\n",
    "        if direction=='UP':\n",
    "            pos[0]-=steps\n",
    "        elif direction=='DOWN':\n",
    "            pos[0]-steps\n",
    "        elif direction=='LEFT':\n",
    "            pos[1]-=steps\n",
    "        elif direction=='RIGHT':\n",
    "            pos[1]+=steps\n",
    "        else:\n",
    "            pass\n",
    "print (int(round(math.sqrt(pos[1]**2+pos[0]**2))))        "
   ]
  },
  {
   "cell_type": "code",
   "execution_count": null,
   "metadata": {},
   "outputs": [],
   "source": [
    "4\n",
    "UP 5\n",
    "DOWN 3\n",
    "LEFT 3\n",
    "RIGH"
   ]
  }
 ],
 "metadata": {
  "kernelspec": {
   "display_name": "Python 3",
   "language": "python",
   "name": "python3"
  },
  "language_info": {
   "codemirror_mode": {
    "name": "ipython",
    "version": 3
   },
   "file_extension": ".py",
   "mimetype": "text/x-python",
   "name": "python",
   "nbconvert_exporter": "python",
   "pygments_lexer": "ipython3",
   "version": "3.7.6"
  }
 },
 "nbformat": 4,
 "nbformat_minor": 4
}
